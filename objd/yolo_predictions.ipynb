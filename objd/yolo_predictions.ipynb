{
 "cells": [
  {
   "cell_type": "code",
   "execution_count": 7,
   "id": "4f5083f7-4b3d-439b-a569-b7a267bac879",
   "metadata": {},
   "outputs": [],
   "source": [
    "import cv2\n",
    "import numpy as np\n",
    "import os\n",
    "import yaml\n",
    "from yaml.loader import SafeLoader"
   ]
  },
  {
   "cell_type": "code",
   "execution_count": 9,
   "id": "74b27373-3856-4785-854e-21cc3e58e29a",
   "metadata": {},
   "outputs": [
    {
     "name": "stdout",
     "output_type": "stream",
     "text": [
      "['fork', 'glasses', 'knife', 'spoon']\n"
     ]
    }
   ],
   "source": [
    "#load YAML\n",
    "\n",
    "with open('data.yaml', mode='r') as f:\n",
    "    data_yaml = yaml.load(f,Loader=yaml.SafeLoader)\n",
    "\n",
    "labels = data_yaml['names']\n",
    "print(labels)"
   ]
  },
  {
   "cell_type": "code",
   "execution_count": 12,
   "id": "d98c1958-ba8c-48ec-84cc-c639412aaf0d",
   "metadata": {},
   "outputs": [],
   "source": [
    "#Load YOLO Model\n",
    "\n",
    "onnx_file_path = r'C:\\Users\\15149\\Desktop\\Data Science Projects\\Object Detection - Jupyter Notebook\\object_detection\\objd\\predictions\\Model-20231224T022013Z-001\\Model\\weights\\best.onnx'\n",
    "\n",
    "yolo = cv2.dnn.readNetFromONNX(onnx_file_path)\n",
    "yolo.setPreferableBackend(cv2.dnn.DNN_BACKEND_OPENCV)\n",
    "yolo.setPreferableTarget(cv2.dnn.DNN_TARGET_CPU)"
   ]
  },
  {
   "cell_type": "code",
   "execution_count": null,
   "id": "346c2528-94bf-4642-97ed-dcd893333b15",
   "metadata": {},
   "outputs": [],
   "source": [
    "#Load the Image\n",
    "\n",
    "img = cv2.imread()"
   ]
  },
  {
   "cell_type": "code",
   "execution_count": null,
   "id": "e6fdbcf5-1258-4d50-a1b1-d60848de7ce5",
   "metadata": {},
   "outputs": [],
   "source": []
  },
  {
   "cell_type": "code",
   "execution_count": null,
   "id": "9ffd9f1e-2777-4eb9-96c8-87f6d66a8c8c",
   "metadata": {},
   "outputs": [],
   "source": []
  },
  {
   "cell_type": "code",
   "execution_count": null,
   "id": "0b69d348-1ffc-41a5-ab0c-980117772ee7",
   "metadata": {},
   "outputs": [],
   "source": []
  },
  {
   "cell_type": "code",
   "execution_count": null,
   "id": "c99fdcfa-0dfb-4f74-94ff-5455650e5eb4",
   "metadata": {},
   "outputs": [],
   "source": []
  },
  {
   "cell_type": "code",
   "execution_count": null,
   "id": "e5ae076d-125f-4b61-80d0-b098390b08ac",
   "metadata": {},
   "outputs": [],
   "source": []
  },
  {
   "cell_type": "code",
   "execution_count": null,
   "id": "118a11f8-7c5a-4d7a-ba9b-603e916f8cce",
   "metadata": {},
   "outputs": [],
   "source": []
  },
  {
   "cell_type": "code",
   "execution_count": null,
   "id": "e47dd55c-f955-4ee4-b4c1-230640196eec",
   "metadata": {},
   "outputs": [],
   "source": []
  }
 ],
 "metadata": {
  "kernelspec": {
   "display_name": "objd",
   "language": "python",
   "name": "objd"
  },
  "language_info": {
   "codemirror_mode": {
    "name": "ipython",
    "version": 3
   },
   "file_extension": ".py",
   "mimetype": "text/x-python",
   "name": "python",
   "nbconvert_exporter": "python",
   "pygments_lexer": "ipython3",
   "version": "3.11.6"
  }
 },
 "nbformat": 4,
 "nbformat_minor": 5
}
