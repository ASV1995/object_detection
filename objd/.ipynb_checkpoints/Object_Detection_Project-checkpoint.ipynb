{
 "cells": [
  {
   "cell_type": "markdown",
   "id": "a21fcfe3-a2b1-433e-b053-470b3ba1ec54",
   "metadata": {},
   "source": [
    "### Virtual Environment"
   ]
  },
  {
   "cell_type": "code",
   "execution_count": null,
   "id": "56e73304-637a-40a8-a0ef-dbd106fb152e",
   "metadata": {},
   "outputs": [],
   "source": [
    "# python -m venv objd\n",
    "# .\\objd\\Scripts\\activate\n",
    "# python.exe -m pip install --upgrade pip\n",
    "# pip install ipykernel\n",
    "# python -m ipykernel install --user --name=objd"
   ]
  },
  {
   "cell_type": "markdown",
   "id": "ff222c5e-88b9-4354-887a-7985112f4aa8",
   "metadata": {},
   "source": [
    "### Download Dependencies"
   ]
  },
  {
   "cell_type": "code",
   "execution_count": 73,
   "id": "29382d57-2de2-45f5-8b32-14ec4ae3e9e1",
   "metadata": {},
   "outputs": [],
   "source": [
    "# pip install numpy\n",
    "# pip install matplotlib\n",
    "# pip install opencv-python\n",
    "# pip install jupyter_contrib_nbextensions ### Very important! -> Hinterland!!!\n",
    "# pip install labelImg\n",
    "# pip install pandas"
   ]
  },
  {
   "cell_type": "code",
   "execution_count": 74,
   "id": "3d091601-51d5-4730-bbcc-d79570d113c1",
   "metadata": {},
   "outputs": [],
   "source": [
    "# In command prompt type \"LabelImg\" and label all your collected images."
   ]
  },
  {
   "cell_type": "code",
   "execution_count": 75,
   "id": "b8e6ec74-b45c-43b7-ab2d-f4a72c0911f6",
   "metadata": {},
   "outputs": [],
   "source": [
    "# In command prompt type \"jupyter notebook\" to start coding."
   ]
  },
  {
   "cell_type": "markdown",
   "id": "fe3dc35c-e9c2-4bea-b3bb-91035c909e29",
   "metadata": {},
   "source": [
    "### Download Dependencies"
   ]
  },
  {
   "cell_type": "code",
   "execution_count": 1,
   "id": "d2677ef5-a328-495d-91b3-b0fb178ad9e9",
   "metadata": {},
   "outputs": [],
   "source": [
    "import os\n",
    "from glob import glob\n",
    "import pandas as pd\n",
    "import matplotlib.pyplot as plt\n",
    "from functools import reduce\n",
    "from xml.etree import ElementTree as et # Python library that allows you to parse and navigate an XML document."
   ]
  },
  {
   "cell_type": "markdown",
   "id": "6fa2dd74-27f5-4e0e-a923-58e21b4cb2b9",
   "metadata": {},
   "source": [
    "### Begin Filename Extraction "
   ]
  },
  {
   "cell_type": "code",
   "execution_count": 2,
   "id": "f43eb18f-6cad-4864-8085-d9c93978cab0",
   "metadata": {},
   "outputs": [],
   "source": [
    "import os\n",
    "\n",
    "def get_xml_paths(directory_path):\n",
    "    xml_paths = [] # Create an empty list.\n",
    "    xml_names = os.listdir(directory_path) # Get all the filenames inside filepath.\n",
    "\n",
    "    for xml_name in xml_names:\n",
    "        if xml_name.endswith(\".xml\"): # After for loop if filename ends in .xml [Very important]!\n",
    "            xml_path = os.path.join(directory_path, xml_name) # Join filename with file directory.\n",
    "            xml_paths.append(xml_path) # Finally append to list.\n",
    "\n",
    "    return xml_paths\n",
    "\n",
    "directory_path = r'C:\\Users\\15149\\Desktop\\Object Detection\\objd\\Dataset\\Data_Images'\n",
    "\n",
    "xml_paths_list = get_xml_paths(directory_path)"
   ]
  },
  {
   "cell_type": "code",
   "execution_count": 23,
   "id": "da966f88-6fe2-4bb5-a5b6-7b6e6f149ebe",
   "metadata": {},
   "outputs": [
    {
     "data": {
      "text/plain": [
       "['C:\\\\Users\\\\15149\\\\Desktop\\\\Object Detection\\\\objd\\\\Dataset\\\\Data_Images\\\\fork.4bbdabfe-7fd2-11ee-9863-a683e7398f45.xml',\n",
       " 'C:\\\\Users\\\\15149\\\\Desktop\\\\Object Detection\\\\objd\\\\Dataset\\\\Data_Images\\\\fork.4cf456a8-7fd2-11ee-9863-a683e7398f45.xml',\n",
       " 'C:\\\\Users\\\\15149\\\\Desktop\\\\Object Detection\\\\objd\\\\Dataset\\\\Data_Images\\\\fork.4e2fefd2-7fd2-11ee-9863-a683e7398f45.xml',\n",
       " 'C:\\\\Users\\\\15149\\\\Desktop\\\\Object Detection\\\\objd\\\\Dataset\\\\Data_Images\\\\fork.4f6a43fc-7fd2-11ee-9863-a683e7398f45.xml',\n",
       " 'C:\\\\Users\\\\15149\\\\Desktop\\\\Object Detection\\\\objd\\\\Dataset\\\\Data_Images\\\\fork.50a5b76a-7fd2-11ee-9863-a683e7398f45.xml']"
      ]
     },
     "execution_count": 23,
     "metadata": {},
     "output_type": "execute_result"
    }
   ],
   "source": [
    "xml_paths_list[:5]"
   ]
  },
  {
   "cell_type": "code",
   "execution_count": 15,
   "id": "20c4b2fe-55e9-49ba-885c-f503b17b8979",
   "metadata": {},
   "outputs": [],
   "source": [
    "# Read xml files.\n",
    "\n",
    "def extract_xml_pics(filename):\n",
    "    parse_tree = et.parse(filename) # Finds the fileman of each xml file in xml_paths_list\n",
    "    get_root = parse_tree.getroot() #  Returns the root component of this path as a Path object.\n",
    "\n",
    "# Extract all nessessary information from .xml image.\n",
    "    image_name = get_root.find('filename').text\n",
    "    get_width = get_root.find('size').find('width').text\n",
    "    get_height = get_root.find('size').find('height').text\n",
    "    \n",
    "    find_objects = get_root.findall('object') # As we have multiple elements with \"objects\" so use findall then we need to find what we are looking for.\n",
    "\n",
    "    parser = []\n",
    "    for object in find_objects:\n",
    "        get_name = object.find('name').text # Image name\n",
    "        get_bndbox = object.find('bndbox') # Bound box [] of image after using labelImg\n",
    "        get_xmin = get_bndbox.find('xmin').text # Xmin of bound box\n",
    "        get_xmax = get_bndbox.find('xmax').text # Xmax of bound box\n",
    "        get_ymin = get_bndbox.find('ymin').text # Ymin of bound box\n",
    "        get_ymax = get_bndbox.find('ymax').text # Ymax of bound box\n",
    "        parser.append([image_name, get_width, get_height, get_name, get_xmin, get_xmax, get_ymin, get_ymax])\n",
    "    return parser"
   ]
  },
  {
   "cell_type": "code",
   "execution_count": 20,
   "id": "a180e9be-b2bc-4845-aa55-edbd3ee5b07f",
   "metadata": {},
   "outputs": [],
   "source": [
    "parser_all_xml = list(map(extract_xml_pics, xml_paths_list))"
   ]
  },
  {
   "cell_type": "code",
   "execution_count": 21,
   "id": "409ca6b4-557d-4967-ad3b-393f71da0a4d",
   "metadata": {},
   "outputs": [],
   "source": [
    "data = reduce(lambda x, y: x+y, parser_all_xml)"
   ]
  },
  {
   "cell_type": "markdown",
   "id": "61bd6e5f-5b2e-4d88-b272-1e4f77d9ae19",
   "metadata": {},
   "source": [
    "### Create XML information dataframe"
   ]
  },
  {
   "cell_type": "code",
   "execution_count": 26,
   "id": "d10b5b9a-dccd-4d90-85bd-ccd8ec22f33a",
   "metadata": {},
   "outputs": [
    {
     "data": {
      "text/html": [
       "<div>\n",
       "<style scoped>\n",
       "    .dataframe tbody tr th:only-of-type {\n",
       "        vertical-align: middle;\n",
       "    }\n",
       "\n",
       "    .dataframe tbody tr th {\n",
       "        vertical-align: top;\n",
       "    }\n",
       "\n",
       "    .dataframe thead th {\n",
       "        text-align: right;\n",
       "    }\n",
       "</style>\n",
       "<table border=\"1\" class=\"dataframe\">\n",
       "  <thead>\n",
       "    <tr style=\"text-align: right;\">\n",
       "      <th></th>\n",
       "      <th>Filename</th>\n",
       "      <th>Width</th>\n",
       "      <th>Height</th>\n",
       "      <th>Name</th>\n",
       "      <th>Xmin</th>\n",
       "      <th>Xmax</th>\n",
       "      <th>Ymin</th>\n",
       "      <th>Ymax</th>\n",
       "    </tr>\n",
       "  </thead>\n",
       "  <tbody>\n",
       "    <tr>\n",
       "      <th>0</th>\n",
       "      <td>fork.4bbdabfe-7fd2-11ee-9863-a683e7398f45.jpg</td>\n",
       "      <td>1280</td>\n",
       "      <td>720</td>\n",
       "      <td>fork</td>\n",
       "      <td>216</td>\n",
       "      <td>878</td>\n",
       "      <td>79</td>\n",
       "      <td>292</td>\n",
       "    </tr>\n",
       "    <tr>\n",
       "      <th>1</th>\n",
       "      <td>fork.4cf456a8-7fd2-11ee-9863-a683e7398f45.jpg</td>\n",
       "      <td>1280</td>\n",
       "      <td>720</td>\n",
       "      <td>fork</td>\n",
       "      <td>463</td>\n",
       "      <td>595</td>\n",
       "      <td>43</td>\n",
       "      <td>343</td>\n",
       "    </tr>\n",
       "    <tr>\n",
       "      <th>2</th>\n",
       "      <td>fork.4e2fefd2-7fd2-11ee-9863-a683e7398f45.jpg</td>\n",
       "      <td>1280</td>\n",
       "      <td>720</td>\n",
       "      <td>fork</td>\n",
       "      <td>186</td>\n",
       "      <td>831</td>\n",
       "      <td>121</td>\n",
       "      <td>286</td>\n",
       "    </tr>\n",
       "    <tr>\n",
       "      <th>3</th>\n",
       "      <td>fork.4f6a43fc-7fd2-11ee-9863-a683e7398f45.jpg</td>\n",
       "      <td>1280</td>\n",
       "      <td>720</td>\n",
       "      <td>fork</td>\n",
       "      <td>418</td>\n",
       "      <td>583</td>\n",
       "      <td>1</td>\n",
       "      <td>426</td>\n",
       "    </tr>\n",
       "    <tr>\n",
       "      <th>4</th>\n",
       "      <td>fork.50a5b76a-7fd2-11ee-9863-a683e7398f45.jpg</td>\n",
       "      <td>1280</td>\n",
       "      <td>720</td>\n",
       "      <td>fork</td>\n",
       "      <td>314</td>\n",
       "      <td>440</td>\n",
       "      <td>77</td>\n",
       "      <td>490</td>\n",
       "    </tr>\n",
       "  </tbody>\n",
       "</table>\n",
       "</div>"
      ],
      "text/plain": [
       "                                        Filename Width Height  Name Xmin Xmax  \\\n",
       "0  fork.4bbdabfe-7fd2-11ee-9863-a683e7398f45.jpg  1280    720  fork  216  878   \n",
       "1  fork.4cf456a8-7fd2-11ee-9863-a683e7398f45.jpg  1280    720  fork  463  595   \n",
       "2  fork.4e2fefd2-7fd2-11ee-9863-a683e7398f45.jpg  1280    720  fork  186  831   \n",
       "3  fork.4f6a43fc-7fd2-11ee-9863-a683e7398f45.jpg  1280    720  fork  418  583   \n",
       "4  fork.50a5b76a-7fd2-11ee-9863-a683e7398f45.jpg  1280    720  fork  314  440   \n",
       "\n",
       "  Ymin Ymax  \n",
       "0   79  292  \n",
       "1   43  343  \n",
       "2  121  286  \n",
       "3    1  426  \n",
       "4   77  490  "
      ]
     },
     "execution_count": 26,
     "metadata": {},
     "output_type": "execute_result"
    }
   ],
   "source": [
    "df = pd.DataFrame(data, columns = ['Filename','Width','Height','Name','Xmin','Xmax','Ymin','Ymax'])\n",
    "df.head()"
   ]
  },
  {
   "cell_type": "code",
   "execution_count": 28,
   "id": "03abc71d-a6c8-49cb-9300-ff47d26fa6f4",
   "metadata": {},
   "outputs": [
    {
     "name": "stdout",
     "output_type": "stream",
     "text": [
      "<class 'pandas.core.frame.DataFrame'>\n",
      "RangeIndex: 20 entries, 0 to 19\n",
      "Data columns (total 8 columns):\n",
      " #   Column    Non-Null Count  Dtype \n",
      "---  ------    --------------  ----- \n",
      " 0   Filename  20 non-null     object\n",
      " 1   Width     20 non-null     object\n",
      " 2   Height    20 non-null     object\n",
      " 3   Name      20 non-null     object\n",
      " 4   Xmin      20 non-null     object\n",
      " 5   Xmax      20 non-null     object\n",
      " 6   Ymin      20 non-null     object\n",
      " 7   Ymax      20 non-null     object\n",
      "dtypes: object(8)\n",
      "memory usage: 1.4+ KB\n"
     ]
    }
   ],
   "source": [
    "df.info()"
   ]
  },
  {
   "cell_type": "code",
   "execution_count": 27,
   "id": "54e1a3ba-d0f2-49ac-8f57-28b6e9bcbaf9",
   "metadata": {},
   "outputs": [
    {
     "data": {
      "text/plain": [
       "(20, 8)"
      ]
     },
     "execution_count": 27,
     "metadata": {},
     "output_type": "execute_result"
    }
   ],
   "source": [
    "df.shape # 20 rows and 8 columns"
   ]
  },
  {
   "cell_type": "code",
   "execution_count": 33,
   "id": "163eff82-34ac-457c-885e-4f765499b976",
   "metadata": {},
   "outputs": [
    {
     "name": "stdout",
     "output_type": "stream",
     "text": [
      "<class 'pandas.core.frame.DataFrame'>\n",
      "RangeIndex: 20 entries, 0 to 19\n",
      "Data columns (total 8 columns):\n",
      " #   Column    Non-Null Count  Dtype \n",
      "---  ------    --------------  ----- \n",
      " 0   Filename  20 non-null     object\n",
      " 1   Width     20 non-null     int32 \n",
      " 2   Height    20 non-null     int32 \n",
      " 3   Name      20 non-null     object\n",
      " 4   Xmin      20 non-null     int32 \n",
      " 5   Xmax      20 non-null     int32 \n",
      " 6   Ymin      20 non-null     int32 \n",
      " 7   Ymax      20 non-null     int32 \n",
      "dtypes: int32(6), object(2)\n",
      "memory usage: 932.0+ bytes\n"
     ]
    }
   ],
   "source": [
    "cols = ['Width','Height', 'Xmin', 'Xmax', 'Ymin', 'Ymax']\n",
    "df[cols] = df[cols].astype(int)\n",
    "df.info()"
   ]
  },
  {
   "cell_type": "markdown",
   "id": "4e033227-3533-40b3-b459-566fdc83ee90",
   "metadata": {},
   "source": [
    "### Find Center X and Center Y of Image"
   ]
  },
  {
   "cell_type": "code",
   "execution_count": 38,
   "id": "642962e1-68a0-494c-a3d2-bfc5686cc7fa",
   "metadata": {},
   "outputs": [],
   "source": [
    "df['center_X'] = ((df['Xmax'])+df['Xmin'])/2/df['Width']\n",
    "df['center_Y'] = ((df['Ymax'])+df['Ymin'])/2/df['Height']"
   ]
  },
  {
   "cell_type": "markdown",
   "id": "a872dde1-d7c9-41ea-9f21-355294737c9a",
   "metadata": {},
   "source": [
    "### Find Height and Weight of Image"
   ]
  },
  {
   "cell_type": "code",
   "execution_count": 39,
   "id": "9d43ec4f-57a5-4c22-8010-63a379040e7c",
   "metadata": {},
   "outputs": [],
   "source": [
    "df['W'] = ((df['Xmax'])-df['Xmin'])/df['Width']\n",
    "df['W'] = ((df['Xmax'])-df['Xmin'])/df['Width']"
   ]
  },
  {
   "cell_type": "code",
   "execution_count": 40,
   "id": "518553cf-9868-4f03-8876-8bedfc9d2b08",
   "metadata": {},
   "outputs": [
    {
     "data": {
      "text/html": [
       "<div>\n",
       "<style scoped>\n",
       "    .dataframe tbody tr th:only-of-type {\n",
       "        vertical-align: middle;\n",
       "    }\n",
       "\n",
       "    .dataframe tbody tr th {\n",
       "        vertical-align: top;\n",
       "    }\n",
       "\n",
       "    .dataframe thead th {\n",
       "        text-align: right;\n",
       "    }\n",
       "</style>\n",
       "<table border=\"1\" class=\"dataframe\">\n",
       "  <thead>\n",
       "    <tr style=\"text-align: right;\">\n",
       "      <th></th>\n",
       "      <th>Filename</th>\n",
       "      <th>Width</th>\n",
       "      <th>Height</th>\n",
       "      <th>Name</th>\n",
       "      <th>Xmin</th>\n",
       "      <th>Xmax</th>\n",
       "      <th>Ymin</th>\n",
       "      <th>Ymax</th>\n",
       "      <th>center_X</th>\n",
       "      <th>center_Y</th>\n",
       "      <th>W</th>\n",
       "    </tr>\n",
       "  </thead>\n",
       "  <tbody>\n",
       "    <tr>\n",
       "      <th>0</th>\n",
       "      <td>fork.4bbdabfe-7fd2-11ee-9863-a683e7398f45.jpg</td>\n",
       "      <td>1280</td>\n",
       "      <td>720</td>\n",
       "      <td>fork</td>\n",
       "      <td>216</td>\n",
       "      <td>878</td>\n",
       "      <td>79</td>\n",
       "      <td>292</td>\n",
       "      <td>0.427344</td>\n",
       "      <td>0.257639</td>\n",
       "      <td>0.517188</td>\n",
       "    </tr>\n",
       "    <tr>\n",
       "      <th>1</th>\n",
       "      <td>fork.4cf456a8-7fd2-11ee-9863-a683e7398f45.jpg</td>\n",
       "      <td>1280</td>\n",
       "      <td>720</td>\n",
       "      <td>fork</td>\n",
       "      <td>463</td>\n",
       "      <td>595</td>\n",
       "      <td>43</td>\n",
       "      <td>343</td>\n",
       "      <td>0.413281</td>\n",
       "      <td>0.268056</td>\n",
       "      <td>0.103125</td>\n",
       "    </tr>\n",
       "    <tr>\n",
       "      <th>2</th>\n",
       "      <td>fork.4e2fefd2-7fd2-11ee-9863-a683e7398f45.jpg</td>\n",
       "      <td>1280</td>\n",
       "      <td>720</td>\n",
       "      <td>fork</td>\n",
       "      <td>186</td>\n",
       "      <td>831</td>\n",
       "      <td>121</td>\n",
       "      <td>286</td>\n",
       "      <td>0.397266</td>\n",
       "      <td>0.282639</td>\n",
       "      <td>0.503906</td>\n",
       "    </tr>\n",
       "    <tr>\n",
       "      <th>3</th>\n",
       "      <td>fork.4f6a43fc-7fd2-11ee-9863-a683e7398f45.jpg</td>\n",
       "      <td>1280</td>\n",
       "      <td>720</td>\n",
       "      <td>fork</td>\n",
       "      <td>418</td>\n",
       "      <td>583</td>\n",
       "      <td>1</td>\n",
       "      <td>426</td>\n",
       "      <td>0.391016</td>\n",
       "      <td>0.296528</td>\n",
       "      <td>0.128906</td>\n",
       "    </tr>\n",
       "    <tr>\n",
       "      <th>4</th>\n",
       "      <td>fork.50a5b76a-7fd2-11ee-9863-a683e7398f45.jpg</td>\n",
       "      <td>1280</td>\n",
       "      <td>720</td>\n",
       "      <td>fork</td>\n",
       "      <td>314</td>\n",
       "      <td>440</td>\n",
       "      <td>77</td>\n",
       "      <td>490</td>\n",
       "      <td>0.294531</td>\n",
       "      <td>0.393750</td>\n",
       "      <td>0.098437</td>\n",
       "    </tr>\n",
       "  </tbody>\n",
       "</table>\n",
       "</div>"
      ],
      "text/plain": [
       "                                        Filename  Width  Height  Name  Xmin  \\\n",
       "0  fork.4bbdabfe-7fd2-11ee-9863-a683e7398f45.jpg   1280     720  fork   216   \n",
       "1  fork.4cf456a8-7fd2-11ee-9863-a683e7398f45.jpg   1280     720  fork   463   \n",
       "2  fork.4e2fefd2-7fd2-11ee-9863-a683e7398f45.jpg   1280     720  fork   186   \n",
       "3  fork.4f6a43fc-7fd2-11ee-9863-a683e7398f45.jpg   1280     720  fork   418   \n",
       "4  fork.50a5b76a-7fd2-11ee-9863-a683e7398f45.jpg   1280     720  fork   314   \n",
       "\n",
       "   Xmax  Ymin  Ymax  center_X  center_Y         W  \n",
       "0   878    79   292  0.427344  0.257639  0.517188  \n",
       "1   595    43   343  0.413281  0.268056  0.103125  \n",
       "2   831   121   286  0.397266  0.282639  0.503906  \n",
       "3   583     1   426  0.391016  0.296528  0.128906  \n",
       "4   440    77   490  0.294531  0.393750  0.098437  "
      ]
     },
     "execution_count": 40,
     "metadata": {},
     "output_type": "execute_result"
    }
   ],
   "source": [
    "df.head()"
   ]
  },
  {
   "cell_type": "code",
   "execution_count": null,
   "id": "cbfbe9ae-af12-41c3-9003-14c64ec1e109",
   "metadata": {},
   "outputs": [],
   "source": []
  },
  {
   "cell_type": "code",
   "execution_count": null,
   "id": "688862f5-f1dc-4d77-9e41-26a8e0d65c2f",
   "metadata": {},
   "outputs": [],
   "source": []
  },
  {
   "cell_type": "code",
   "execution_count": null,
   "id": "10764d42-c416-47b5-b52d-c17910966e19",
   "metadata": {},
   "outputs": [],
   "source": []
  }
 ],
 "metadata": {
  "kernelspec": {
   "display_name": "objd",
   "language": "python",
   "name": "objd"
  },
  "language_info": {
   "codemirror_mode": {
    "name": "ipython",
    "version": 3
   },
   "file_extension": ".py",
   "mimetype": "text/x-python",
   "name": "python",
   "nbconvert_exporter": "python",
   "pygments_lexer": "ipython3",
   "version": "3.11.6"
  }
 },
 "nbformat": 4,
 "nbformat_minor": 5
}
