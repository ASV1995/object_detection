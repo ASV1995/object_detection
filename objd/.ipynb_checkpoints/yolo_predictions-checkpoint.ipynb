{
 "cells": [
  {
   "cell_type": "code",
   "execution_count": 10,
   "id": "50fb626d-6fb7-4982-b96a-1827f772c9bf",
   "metadata": {},
   "outputs": [],
   "source": [
    "import os\n",
    "import numpy as np"
   ]
  },
  {
   "cell_type": "code",
   "execution_count": null,
   "id": "425d2440-dddf-462d-89e2-1bc3fc51deaa",
   "metadata": {},
   "outputs": [],
   "source": [
    "!pip install ultralytics"
   ]
  },
  {
   "cell_type": "code",
   "execution_count": null,
   "id": "3505290c-8ee4-417a-a853-a34c3e2b8608",
   "metadata": {},
   "outputs": [],
   "source": [
    "os.chdir(r'C:\\Users\\15149\\Desktop\\Data Science Projects\\Object Detection - Jupyter Notebook\\object_detection\\objd\\yolo_training\\yolov5')"
   ]
  },
  {
   "cell_type": "code",
   "execution_count": 13,
   "id": "e5ae076d-125f-4b61-80d0-b098390b08ac",
   "metadata": {},
   "outputs": [
    {
     "name": "stderr",
     "output_type": "stream",
     "text": [
      "Downloading: \"https://github.com/ultralytics/yolov5/zipball/master\" to C:\\Users\\15149/.cache\\torch\\hub\\master.zip\n",
      "YOLOv5  2023-12-26 Python-3.11.6 torch-2.1.2+cpu CPU\n",
      "\n",
      "Fusing layers... \n",
      "YOLOv5s summary: 157 layers, 7020913 parameters, 0 gradients, 15.8 GFLOPs\n",
      "Adding AutoShape... \n"
     ]
    }
   ],
   "source": [
    "import cv2\n",
    "import torch\n",
    "from IPython.display import Image, display\n",
    "\n",
    "# Load the entire model\n",
    "path = r'best.pt'\n",
    "model = torch.hub.load('ultralytics/yolov5', 'custom', path, force_reload=True)\n",
    "model.eval()\n",
    "\n",
    "# Set webcam input\n",
    "cap = cv2.VideoCapture(0)\n",
    "\n",
    "while True:\n",
    "    # Read frames\n",
    "    ret, frame = cap.read()\n",
    "    frame=cv2.resize(frame, (500,500))\n",
    "    results = model(frame)\n",
    "    frame = np.squeeze(results.render())\n",
    "    cv2.imshow('FRAME',frame)\n",
    "    \n",
    "    \n",
    "    if (cv2.waitKey(1) & 0xFF == ord(\"q\")) or (cv2.waitKey(1)==27):\n",
    "        break\n",
    "\n",
    "# Close the camera\n",
    "cam.release()\n",
    "cv2.destroyAllWindows()"
   ]
  },
  {
   "cell_type": "code",
   "execution_count": null,
   "id": "ee631d98-861f-46ad-a0f9-606eddaa453a",
   "metadata": {},
   "outputs": [],
   "source": []
  }
 ],
 "metadata": {
  "kernelspec": {
   "display_name": "objd",
   "language": "python",
   "name": "objd"
  },
  "language_info": {
   "codemirror_mode": {
    "name": "ipython",
    "version": 3
   },
   "file_extension": ".py",
   "mimetype": "text/x-python",
   "name": "python",
   "nbconvert_exporter": "python",
   "pygments_lexer": "ipython3",
   "version": "3.11.6"
  }
 },
 "nbformat": 4,
 "nbformat_minor": 5
}
